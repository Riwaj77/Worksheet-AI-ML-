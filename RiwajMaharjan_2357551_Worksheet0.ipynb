{
  "nbformat": 4,
  "nbformat_minor": 0,
  "metadata": {
    "colab": {
      "provenance": []
    },
    "kernelspec": {
      "name": "python3",
      "display_name": "Python 3"
    },
    "language_info": {
      "name": "python"
    }
  },
  "cells": [
    {
      "cell_type": "markdown",
      "source": [
        "**Name : Riwaj Maharjan**\n",
        "\n",
        "**Group : L6CG19**\n",
        "\n",
        "**Student Number : 2357551**"
      ],
      "metadata": {
        "id": "jxIMKUl0Rvlt"
      }
    },
    {
      "cell_type": "markdown",
      "source": [
        "#  4.1 Exercise on Functions:"
      ],
      "metadata": {
        "id": "-qBnBvkL9MXS"
      }
    },
    {
      "cell_type": "markdown",
      "source": [
        "**Task- 1:**\n",
        "\n",
        " Create a Python program that converts between different units of measurement.\n",
        "\n",
        " **• The program should:**\n",
        " 1. Prompt the user to choose the type of conversion (e.g., length, weight, volume).\n",
        " 2. Ask the user to input the value to be converted.\n",
        " 3. Perform the conversion and display the result.\n",
        " 4. Handle potential errors, such as invalid input or unsupported conversion types.\n",
        " **Requirements:**\n",
        "\n",
        " 1. Functions: Define at least one function to perform the conversion.\n",
        " 2. Error Handling: Use try-except blocks to handle invalid input (e.g., non-numeric values).\n",
        " 3. User Input: Prompt the user to select the conversion type and input the value.\n",
        " 4. Docstrings: Include a docstring in your function to describe its purpose, parameters, and\n",
        " return value.\n",
        " **• Conversion Options:**\n",
        " 1. Length:– Convert meters (m) to feet (ft).– Convert feet (ft) to meters (m).\n",
        " 2. Weight:– Convert kilograms (kg) to pounds (lbs).– Convert pounds (lbs) to kilograms (kg).\n",
        " 3. Volume:– Convert liters (L) to gallons (gal).– Convert gallons (gal) to liters (L)"
      ],
      "metadata": {
        "id": "EkwR_v9y91bT"
      }
    },
    {
      "cell_type": "code",
      "source": [
        "def unit_converter():\n",
        "    \"\"\"\n",
        "    Converts between different units of measurement.\n",
        "    Supports length (meters to feet, feet to meters),\n",
        "    weight (kilograms to pounds, pounds to kilograms),\n",
        "    and volume (liters to gallons, gallons to liters).\n",
        "    \"\"\"\n",
        "    print(\"Choose conversion type:\")\n",
        "    print(\"1. Length\")\n",
        "    print(\"2. Weight\")\n",
        "    print(\"3. Volume\")\n",
        "    choice = input(\"Enter 1, 2, or 3: \")\n",
        "\n",
        "    try:\n",
        "        value = float(input(\"Enter the value to convert: \"))\n",
        "    except ValueError:\n",
        "        print(\"Invalid input. Please enter a numeric value.\")\n",
        "        return\n",
        "\n",
        "    if choice == \"1\":  # Length\n",
        "        print(\"1. Meters to Feet\")\n",
        "        print(\"2. Feet to Meters\")\n",
        "        sub_choice = input(\"Enter 1 or 2: \")\n",
        "        if sub_choice == \"1\":\n",
        "            result = value * 3.28084\n",
        "            print(f\"{value} meters = {result} feet\")\n",
        "        elif sub_choice == \"2\":\n",
        "            result = value / 3.28084\n",
        "            print(f\"{value} feet = {result} meters\")\n",
        "        else:\n",
        "            print(\"Invalid choice.\")\n",
        "    elif choice == \"2\":  # Weight\n",
        "        print(\"1. Kilograms to Pounds\")\n",
        "        print(\"2. Pounds to Kilograms\")\n",
        "        sub_choice = input(\"Enter 1 or 2: \")\n",
        "        if sub_choice == \"1\":\n",
        "            result = value * 2.20462\n",
        "            print(f\"{value} kilograms = {result} pounds\")\n",
        "        elif sub_choice == \"2\":\n",
        "            result = value / 2.20462\n",
        "            print(f\"{value} pounds = {result} kilograms\")\n",
        "        else:\n",
        "            print(\"Invalid choice.\")\n",
        "    elif choice == \"3\":  # Volume\n",
        "        print(\"1. Liters to Gallons\")\n",
        "        print(\"2. Gallons to Liters\")\n",
        "        sub_choice = input(\"Enter 1 or 2: \")\n",
        "        if sub_choice == \"1\":\n",
        "            result = value * 0.264172\n",
        "            print(f\"{value} liters = {result} gallons\")\n",
        "        elif sub_choice == \"2\":\n",
        "            result = value / 0.264172\n",
        "            print(f\"{value} gallons = {result} liters\")\n",
        "        else:\n",
        "            print(\"Invalid choice.\")\n",
        "    else:\n",
        "        print(\"Invalid choice.\")\n",
        "\n",
        "unit_converter()"
      ],
      "metadata": {
        "colab": {
          "base_uri": "https://localhost:8080/"
        },
        "id": "9xoIaj8z9iit",
        "outputId": "c053868c-41e4-47a5-fa74-2ff402fd6373"
      },
      "execution_count": 66,
      "outputs": [
        {
          "output_type": "stream",
          "name": "stdout",
          "text": [
            "Choose conversion type:\n",
            "1. Length\n",
            "2. Weight\n",
            "3. Volume\n",
            "Enter 1, 2, or 3: 1\n",
            "Enter the value to convert: 40\n",
            "1. Meters to Feet\n",
            "2. Feet to Meters\n",
            "Enter 1 or 2: 1\n",
            "40.0 meters = 131.2336 feet\n"
          ]
        }
      ]
    },
    {
      "cell_type": "markdown",
      "source": [
        " **Task- 2:**\n",
        "\n",
        " Create a Python program that performs various mathematical operations on a list of numbers\n",
        "\n",
        "**• The Program should:**\n",
        " 1. Prompt the user to choose an operation (e.g., find the sum, average maximum, or minimum of the numbers).\n",
        " 2. Ask the user to input a list of numbers (separated by spaces).\n",
        " 3. Perform the selected operation and display the result.\n",
        " 4. Handle potential errors, such as invalid input or empty lists.\n",
        "\n",
        " **• Requirements:**\n",
        " 1. Functions: Define at least one function for each operation (sum, average, maximum, mini\n",
        "mum).\n",
        " 2. Error Handling: Use try-except blocks to handle invalid input (e.g., non-numeric values or\n",
        " empty lists).\n",
        " 3. User Input: Prompt the user to select the operation and input the list of numbers.\n",
        " 4. Docstrings: Include a docstring in each function to describe its purpose, parameters, and\n",
        " return value"
      ],
      "metadata": {
        "id": "9svZuZfy-ly9"
      }
    },
    {
      "cell_type": "code",
      "source": [
        "def sum_list(numbers):\n",
        "    \"\"\"Returns the sum of a list of numbers.\"\"\"\n",
        "    return sum(numbers)\n",
        "\n",
        "def average_list(numbers):\n",
        "    \"\"\"Returns the average of a list of numbers.\"\"\"\n",
        "    return sum(numbers) / len(numbers)\n",
        "\n",
        "def max_list(numbers):\n",
        "    \"\"\"Returns the maximum value in a list of numbers.\"\"\"\n",
        "    return max(numbers)\n",
        "\n",
        "def min_list(numbers):\n",
        "    \"\"\"Returns the minimum value in a list of numbers.\"\"\"\n",
        "    return min(numbers)\n",
        "\n",
        "def math_operations():\n",
        "    \"\"\"\n",
        "    Performs mathematical operations on a list of numbers.\n",
        "    Supports sum, average, maximum, and minimum.\n",
        "    \"\"\"\n",
        "    try:\n",
        "        numbers = list(map(float, input(\"Enter a list of numbers separated by spaces: \").split()))\n",
        "    except ValueError:\n",
        "        print(\"Invalid input. Please enter numeric values.\")\n",
        "        return\n",
        "\n",
        "    if not numbers:\n",
        "        print(\"The list is empty.\")\n",
        "        return\n",
        "\n",
        "    print(\"Choose an operation:\")\n",
        "    print(\"1. Sum\")\n",
        "    print(\"2. Average\")\n",
        "    print(\"3. Maximum\")\n",
        "    print(\"4. Minimum\")\n",
        "    choice = input(\"Enter 1, 2, 3, or 4: \")\n",
        "\n",
        "    if choice == \"1\":\n",
        "        result = sum_list(numbers)\n",
        "        print(f\"Sum: {result}\")\n",
        "    elif choice == \"2\":\n",
        "        result = average_list(numbers)\n",
        "        print(f\"Average: {result}\")\n",
        "    elif choice == \"3\":\n",
        "        result = max_list(numbers)\n",
        "        print(f\"Maximum: {result}\")\n",
        "    elif choice == \"4\":\n",
        "        result = min_list(numbers)\n",
        "        print(f\"Minimum: {result}\")\n",
        "    else:\n",
        "        print(\"Invalid choice.\")\n",
        "\n",
        "math_operations()"
      ],
      "metadata": {
        "colab": {
          "base_uri": "https://localhost:8080/"
        },
        "id": "p8kI72Hc_EjJ",
        "outputId": "cf189a40-8e09-47a7-c08c-18f9275743d2"
      },
      "execution_count": 72,
      "outputs": [
        {
          "output_type": "stream",
          "name": "stdout",
          "text": [
            "Enter a list of numbers separated by spaces: 1 2 3 4\n",
            "Choose an operation:\n",
            "1. Sum\n",
            "2. Average\n",
            "3. Maximum\n",
            "4. Minimum\n",
            "Enter 1, 2, 3, or 4: 1\n",
            "Sum: 10.0\n"
          ]
        }
      ]
    },
    {
      "cell_type": "markdown",
      "source": [
        "#4.2 Exercise on List Manipulation:"
      ],
      "metadata": {
        "id": "tWqGkbYH_ed6"
      }
    },
    {
      "cell_type": "markdown",
      "source": [
        "**1. Extract Every Other Element:**\n",
        "\n",
        "Write a Python function that extracts every other element from a list, starting from the first element."
      ],
      "metadata": {
        "id": "7yYy90pd_h5K"
      }
    },
    {
      "cell_type": "code",
      "source": [
        "def extract_every_other(lst):\n",
        "    return lst[::2]\n",
        "\n",
        "print(extract_every_other([1, 2, 3, 4, 5, 6]))"
      ],
      "metadata": {
        "colab": {
          "base_uri": "https://localhost:8080/"
        },
        "id": "zeztKluLAEP5",
        "outputId": "dc962590-f327-459f-8d44-0577fb936b0c"
      },
      "execution_count": 73,
      "outputs": [
        {
          "output_type": "stream",
          "name": "stdout",
          "text": [
            "[1, 3, 5]\n"
          ]
        }
      ]
    },
    {
      "cell_type": "markdown",
      "source": [
        "**2. Slice a Sublist:**\n",
        "\n",
        " Write a Python function that returns a sublist from a given list, starting from a specified index and ending at another specified index"
      ],
      "metadata": {
        "id": "SAYTe5X6AnGI"
      }
    },
    {
      "cell_type": "code",
      "source": [
        "def get_sublist(lst, start, end):\n",
        "    return lst[start:end+1]\n",
        "\n",
        "print(get_sublist([1, 2, 3, 4, 5, 6], 2, 4))"
      ],
      "metadata": {
        "colab": {
          "base_uri": "https://localhost:8080/"
        },
        "id": "LLPELBdUAvjS",
        "outputId": "f9732dc5-ebbd-4fce-b2ad-4a32d9673d8b"
      },
      "execution_count": 74,
      "outputs": [
        {
          "output_type": "stream",
          "name": "stdout",
          "text": [
            "[3, 4, 5]\n"
          ]
        }
      ]
    },
    {
      "cell_type": "markdown",
      "source": [
        " **3. Reverse a List Using Slicing:**\n",
        "\n",
        " Write a Python function that reverses a list using slicing."
      ],
      "metadata": {
        "id": "qRyagCoABen9"
      }
    },
    {
      "cell_type": "code",
      "source": [
        "def reverse_list(lst):\n",
        "    return lst[::-1]\n",
        "\n",
        "print(reverse_list([1, 2, 3, 4, 5]))"
      ],
      "metadata": {
        "colab": {
          "base_uri": "https://localhost:8080/"
        },
        "id": "vvvJ-lmeBjLs",
        "outputId": "62031a2d-7b86-4704-af4d-caab5f3a283f"
      },
      "execution_count": 75,
      "outputs": [
        {
          "output_type": "stream",
          "name": "stdout",
          "text": [
            "[5, 4, 3, 2, 1]\n"
          ]
        }
      ]
    },
    {
      "cell_type": "markdown",
      "source": [
        "**4. Remove the First and Last Elements:**\n",
        "\n",
        " Write a Python function that removes the first and last elements of a list and returns the resulting\n",
        " sublist"
      ],
      "metadata": {
        "id": "b0uFoLZnBnj8"
      }
    },
    {
      "cell_type": "code",
      "source": [
        "def remove_first_last(lst):\n",
        "    return lst[1:-1]\n",
        "\n",
        "print(remove_first_last([1, 2, 3, 4, 5]))"
      ],
      "metadata": {
        "colab": {
          "base_uri": "https://localhost:8080/"
        },
        "id": "9DLfMPeVBrVV",
        "outputId": "448199be-a0f5-46b4-bea2-4396f72f2930"
      },
      "execution_count": 76,
      "outputs": [
        {
          "output_type": "stream",
          "name": "stdout",
          "text": [
            "[2, 3, 4]\n"
          ]
        }
      ]
    },
    {
      "cell_type": "markdown",
      "source": [
        " **5. Get the First n Elements:**\n",
        "\n",
        " Write a Python function that extracts the first n elements from a list"
      ],
      "metadata": {
        "id": "QuhS84PQBzpe"
      }
    },
    {
      "cell_type": "code",
      "source": [
        "def get_first_n(lst, n):\n",
        "    return lst[:n]\n",
        "\n",
        "print(get_first_n([1, 2, 3, 4, 5], 3))"
      ],
      "metadata": {
        "colab": {
          "base_uri": "https://localhost:8080/"
        },
        "id": "WstUarXCB3AT",
        "outputId": "534bbb93-49fe-48f0-8916-48324cc40af4"
      },
      "execution_count": 77,
      "outputs": [
        {
          "output_type": "stream",
          "name": "stdout",
          "text": [
            "[1, 2, 3]\n"
          ]
        }
      ]
    },
    {
      "cell_type": "markdown",
      "source": [
        "**6. Extract Elements from the End:**\n",
        "\n",
        " Write a Python function that extracts the last n elements of a list using slicing"
      ],
      "metadata": {
        "id": "pRJNTt8SCBQC"
      }
    },
    {
      "cell_type": "code",
      "source": [
        "def get_last_n(lst, n):\n",
        "    return lst[-n:]\n",
        "\n",
        "print(get_last_n([1, 2, 3, 4, 5], 2))"
      ],
      "metadata": {
        "colab": {
          "base_uri": "https://localhost:8080/"
        },
        "id": "VzT4WHJrCFCr",
        "outputId": "7b0da17d-d058-449b-fd42-33414510d9d7"
      },
      "execution_count": 80,
      "outputs": [
        {
          "output_type": "stream",
          "name": "stdout",
          "text": [
            "[4, 5]\n"
          ]
        }
      ]
    },
    {
      "cell_type": "markdown",
      "source": [
        " **7. Extract Elements in Reverse Order:**\n",
        "\n",
        " Write a Python function that extracts a list of elements in reverse order starting from the second-to-last element and skipping one element in between."
      ],
      "metadata": {
        "id": "tgHtQnfKCSxv"
      }
    },
    {
      "cell_type": "code",
      "source": [
        "def reverse_skip(lst):\n",
        "    return lst[-2::-2]\n",
        "\n",
        "print(reverse_skip([1, 2, 3, 4, 5, 6]))"
      ],
      "metadata": {
        "colab": {
          "base_uri": "https://localhost:8080/"
        },
        "id": "fPKzHwZ1CW9N",
        "outputId": "c0dc85fd-2b31-49ba-d90c-831a146a88b2"
      },
      "execution_count": 81,
      "outputs": [
        {
          "output_type": "stream",
          "name": "stdout",
          "text": [
            "[5, 3, 1]\n"
          ]
        }
      ]
    },
    {
      "cell_type": "markdown",
      "source": [
        "#  4.3 Exercise on Nested List:"
      ],
      "metadata": {
        "id": "qdhI8lIHChMA"
      }
    },
    {
      "cell_type": "markdown",
      "source": [
        "**1. Flatten a Nested List:**\n",
        "\n",
        " Write a Python function that takes a nested list and flattens it into a single list, where all the elements are in a single dimension."
      ],
      "metadata": {
        "id": "qbPj2RRiCjIA"
      }
    },
    {
      "cell_type": "code",
      "source": [
        "def flatten(lst):\n",
        "    flat_list = []\n",
        "    for item in lst:\n",
        "        if isinstance(item, list):\n",
        "            flat_list.extend(flatten(item))\n",
        "        else:\n",
        "            flat_list.append(item)\n",
        "    return flat_list\n",
        "\n",
        "print(flatten([[1, 2], [3, 4], [5]]))"
      ],
      "metadata": {
        "colab": {
          "base_uri": "https://localhost:8080/"
        },
        "id": "6i0QfaHoCgL4",
        "outputId": "c95242ae-b59b-4b68-eb2b-e8b0b6b3f39c"
      },
      "execution_count": 83,
      "outputs": [
        {
          "output_type": "stream",
          "name": "stdout",
          "text": [
            "[1, 2, 3, 4, 5]\n"
          ]
        }
      ]
    },
    {
      "cell_type": "markdown",
      "source": [
        "**2. Accessing Nested List Elements:**\n",
        "\n",
        " Write a Python function that extracts a specific element from a nested list given its indices."
      ],
      "metadata": {
        "id": "5bAj0U-oCzRy"
      }
    },
    {
      "cell_type": "code",
      "source": [
        "def access_nested_element(lst, indices):\n",
        "    for index in indices:\n",
        "        lst = lst[index]\n",
        "    return lst\n",
        "\n",
        "print(access_nested_element([[1, 2, 3], [4, 5, 6], [7, 8, 9]], [1, 2]))"
      ],
      "metadata": {
        "colab": {
          "base_uri": "https://localhost:8080/"
        },
        "id": "e26htR0mC2Or",
        "outputId": "064a689c-9037-4e03-a85c-348ba81493e4"
      },
      "execution_count": 84,
      "outputs": [
        {
          "output_type": "stream",
          "name": "stdout",
          "text": [
            "6\n"
          ]
        }
      ]
    },
    {
      "cell_type": "markdown",
      "source": [
        "**3. Sum of All Elements in a Nested List:**\n",
        "\n",
        " Write a Python function that calculates the sum of all the numbers in a nested list (regardless of depth)."
      ],
      "metadata": {
        "id": "zEsOh9CsC-O-"
      }
    },
    {
      "cell_type": "code",
      "source": [
        "def sum_nested(lst):\n",
        "    total = 0\n",
        "    for item in lst:\n",
        "        if isinstance(item, list):\n",
        "            total += sum_nested(item)\n",
        "        else:\n",
        "            total += item\n",
        "    return total\n",
        "\n",
        "print(sum_nested([[1, 2], [3, [4, 5]], 6]))"
      ],
      "metadata": {
        "colab": {
          "base_uri": "https://localhost:8080/"
        },
        "id": "lqbL4BftDAqG",
        "outputId": "def50d12-e159-400e-9194-b3b0148ba45c"
      },
      "execution_count": 85,
      "outputs": [
        {
          "output_type": "stream",
          "name": "stdout",
          "text": [
            "21\n"
          ]
        }
      ]
    },
    {
      "cell_type": "markdown",
      "source": [
        "**4. Remove Specific Element from a Nested List:**\n",
        "\n",
        " Write a Python function that removes all occurrences of a specific element from a nested list."
      ],
      "metadata": {
        "id": "3mai12VGDIQU"
      }
    },
    {
      "cell_type": "code",
      "source": [
        "def remove_element(lst, elem):\n",
        "\n",
        "    result = []\n",
        "    for item in lst:\n",
        "        if isinstance(item, list):\n",
        "            result.append(remove_element(item, elem))\n",
        "        elif item != elem:\n",
        "            result.append(item)\n",
        "    return result\n",
        "\n",
        "print(remove_element([[1, 2], [3, 2], [4, 5]], 2))"
      ],
      "metadata": {
        "colab": {
          "base_uri": "https://localhost:8080/"
        },
        "id": "m5by909UDO41",
        "outputId": "88fabc3d-eafb-4b47-b659-5017c5d68e10"
      },
      "execution_count": 86,
      "outputs": [
        {
          "output_type": "stream",
          "name": "stdout",
          "text": [
            "[[1], [3], [4, 5]]\n"
          ]
        }
      ]
    },
    {
      "cell_type": "markdown",
      "source": [
        " **5. Find the Maximum Element in a Nested List:**\n",
        "\n",
        " Write a Python function that finds the maximum element in a nested list (regardless of depth)."
      ],
      "metadata": {
        "id": "Bhb1kAQQDYJh"
      }
    },
    {
      "cell_type": "code",
      "source": [
        "def find_max(lst):\n",
        "    max_val = float('-inf')\n",
        "    for item in lst:\n",
        "        if isinstance(item, list):\n",
        "            max_val = max(max_val, find_max(item))\n",
        "        else:\n",
        "            max_val = max(max_val, item)\n",
        "    return max_val\n",
        "\n",
        "print(find_max([[1, 2], [3, [4, 5]], 6]))"
      ],
      "metadata": {
        "colab": {
          "base_uri": "https://localhost:8080/"
        },
        "id": "4mOsAJ_-DbJP",
        "outputId": "3e3db755-f0c4-453f-dbf1-59e57519eda9"
      },
      "execution_count": 88,
      "outputs": [
        {
          "output_type": "stream",
          "name": "stdout",
          "text": [
            "6\n"
          ]
        }
      ]
    },
    {
      "cell_type": "markdown",
      "source": [
        " **6. Count Occurrences of an Element in a Nested List:**\n",
        "\n",
        " Write a Python function that counts how many times a specific element appears in a nested list"
      ],
      "metadata": {
        "id": "AxhHxlgEDsIV"
      }
    },
    {
      "cell_type": "code",
      "source": [
        "def count_occurrences(lst, elem):\n",
        "    count = 0\n",
        "    for item in lst:\n",
        "        if isinstance(item, list):\n",
        "            count += count_occurrences(item, elem)\n",
        "        elif item == elem:\n",
        "            count += 1\n",
        "    return count\n",
        "\n",
        "print(count_occurrences([[1, 2], [2, 3], [2, 4]], 2))"
      ],
      "metadata": {
        "colab": {
          "base_uri": "https://localhost:8080/"
        },
        "id": "lGcw8VT0Dv8-",
        "outputId": "1e7631e5-8193-468c-b5a9-e5f3c777c812"
      },
      "execution_count": 89,
      "outputs": [
        {
          "output_type": "stream",
          "name": "stdout",
          "text": [
            "3\n"
          ]
        }
      ]
    },
    {
      "cell_type": "markdown",
      "source": [
        " **7. Flatten a List of Lists of Lists:**\n",
        "\n",
        " Write a Python function that flattens a list of lists of lists into a single list, regardless of the depth."
      ],
      "metadata": {
        "id": "tMnN3TRaD4cb"
      }
    },
    {
      "cell_type": "code",
      "source": [
        "def deep_flatten(lst):\n",
        "\n",
        "    flat_list = []\n",
        "    for item in lst:\n",
        "        if isinstance(item, list):\n",
        "            flat_list.extend(deep_flatten(item))\n",
        "        else:\n",
        "            flat_list.append(item)\n",
        "    return flat_list\n",
        "\n",
        "print(deep_flatten([[[1, 2], [3, 4]], [[5, 6], [7, 8]]]))"
      ],
      "metadata": {
        "colab": {
          "base_uri": "https://localhost:8080/"
        },
        "id": "GGq0sFlzD70q",
        "outputId": "829f913a-d1ac-494a-bea1-7f4413eab840"
      },
      "execution_count": 90,
      "outputs": [
        {
          "output_type": "stream",
          "name": "stdout",
          "text": [
            "[1, 2, 3, 4, 5, 6, 7, 8]\n"
          ]
        }
      ]
    },
    {
      "cell_type": "markdown",
      "source": [
        "**8. Nested List Average:**\n",
        "\n",
        " Write a Python function that calculates the average of all elements in a nested list."
      ],
      "metadata": {
        "id": "MqOifmp3ECO5"
      }
    },
    {
      "cell_type": "code",
      "source": [
        "def average_nested(lst):\n",
        "    total = sum_nested(lst)\n",
        "    count = len(flatten(lst))\n",
        "    return total / count\n",
        "\n",
        "print(average_nested([[1, 2], [3, 4], [5, 6]]))"
      ],
      "metadata": {
        "colab": {
          "base_uri": "https://localhost:8080/"
        },
        "id": "vWoLocaEEGoz",
        "outputId": "370713bd-edd0-407d-99ec-0dd1eea9dcab"
      },
      "execution_count": 91,
      "outputs": [
        {
          "output_type": "stream",
          "name": "stdout",
          "text": [
            "3.5\n"
          ]
        }
      ]
    },
    {
      "cell_type": "markdown",
      "source": [
        "# 10.1 Basic Vector and Matrix Operation with Numpy"
      ],
      "metadata": {
        "id": "34ByLvYESgi0"
      }
    },
    {
      "cell_type": "markdown",
      "source": [
        "**Problem- 1: Array Creation:**"
      ],
      "metadata": {
        "id": "Tos3Zn5cTVVA"
      }
    },
    {
      "cell_type": "code",
      "execution_count": 1,
      "metadata": {
        "colab": {
          "base_uri": "https://localhost:8080/"
        },
        "id": "bHLpt0DuHFxJ",
        "outputId": "634dcc16-6195-46d2-84ac-8d974708229b"
      },
      "outputs": [
        {
          "output_type": "stream",
          "name": "stdout",
          "text": [
            "[[1.95781447e-316 0.00000000e+000]\n",
            " [2.57707506e-057 4.17265384e-057]]\n"
          ]
        }
      ],
      "source": [
        "# 1. Initialize an empty array with size 2X2\n",
        "import numpy as np\n",
        "empty_array = np.empty((2, 2))\n",
        "print(empty_array)"
      ]
    },
    {
      "cell_type": "code",
      "source": [
        "# 2. Initialize an all one array with size 4X2\n",
        "one_array = np.ones((4, 2))\n",
        "print(one_array)"
      ],
      "metadata": {
        "colab": {
          "base_uri": "https://localhost:8080/"
        },
        "id": "sWCNZ9ILVgW5",
        "outputId": "51d0488f-5db6-4dbd-c4e4-e35ddffa0bda"
      },
      "execution_count": 2,
      "outputs": [
        {
          "output_type": "stream",
          "name": "stdout",
          "text": [
            "[[1. 1.]\n",
            " [1. 1.]\n",
            " [1. 1.]\n",
            " [1. 1.]]\n"
          ]
        }
      ]
    },
    {
      "cell_type": "code",
      "source": [
        "#3. Return a new array of given shape and type, filled with fill value\n",
        "fill_array = np.full((3, 3), 5)\n",
        "print(fill_array)"
      ],
      "metadata": {
        "colab": {
          "base_uri": "https://localhost:8080/"
        },
        "id": "gmrF44l3WJ-B",
        "outputId": "1ac67bbb-5053-42d1-c371-b82d5d85fc68"
      },
      "execution_count": 4,
      "outputs": [
        {
          "output_type": "stream",
          "name": "stdout",
          "text": [
            "[[5 5 5]\n",
            " [5 5 5]\n",
            " [5 5 5]]\n"
          ]
        }
      ]
    },
    {
      "cell_type": "code",
      "source": [
        "# 4. Return a new array of zeros with same shape and type as a given array\n",
        "zeros_array = np.zeros_like(fill_array)\n",
        "print(zeros_array)"
      ],
      "metadata": {
        "colab": {
          "base_uri": "https://localhost:8080/"
        },
        "id": "aBDqkGzpgZOj",
        "outputId": "ba73bfe6-8bcf-45a3-b67e-61da77f149c2"
      },
      "execution_count": 5,
      "outputs": [
        {
          "output_type": "stream",
          "name": "stdout",
          "text": [
            "[[0 0 0]\n",
            " [0 0 0]\n",
            " [0 0 0]]\n"
          ]
        }
      ]
    },
    {
      "cell_type": "code",
      "source": [
        "#5. Return a new array of ones with same shape and type as a given array\n",
        "ones_array = np.ones_like(fill_array)\n",
        "print(ones_array)"
      ],
      "metadata": {
        "colab": {
          "base_uri": "https://localhost:8080/"
        },
        "id": "RGO85Kg0gkkN",
        "outputId": "4fdbc622-1f70-4265-a433-ad87be7171f8"
      },
      "execution_count": 6,
      "outputs": [
        {
          "output_type": "stream",
          "name": "stdout",
          "text": [
            "[[1 1 1]\n",
            " [1 1 1]\n",
            " [1 1 1]]\n"
          ]
        }
      ]
    },
    {
      "cell_type": "code",
      "source": [
        "# 6. For an existing list new_list = [1,2,3,4] convert to an numpy array\n",
        "new_list = [1, 2, 3, 4]\n",
        "numpy_array = np.array(new_list)\n",
        "print(numpy_array)"
      ],
      "metadata": {
        "colab": {
          "base_uri": "https://localhost:8080/"
        },
        "id": "gVqIQJIcgvwI",
        "outputId": "0e782899-8fad-4c71-ad14-8834024f89fc"
      },
      "execution_count": 7,
      "outputs": [
        {
          "output_type": "stream",
          "name": "stdout",
          "text": [
            "[1 2 3 4]\n"
          ]
        }
      ]
    },
    {
      "cell_type": "markdown",
      "source": [
        "**Problem- 2: Array Manipulation: Numerical Ranges and Array indexing:**"
      ],
      "metadata": {
        "id": "bssqOhSxg4Y_"
      }
    },
    {
      "cell_type": "code",
      "source": [
        "#1. Create an array with values ranging from 10 to 49\n",
        "array_range = np.arange(10, 50)\n",
        "print(array_range)"
      ],
      "metadata": {
        "colab": {
          "base_uri": "https://localhost:8080/"
        },
        "id": "pFeyArg7g7Ov",
        "outputId": "efc14f81-35a0-46a6-dac9-de1e74bca5f5"
      },
      "execution_count": 8,
      "outputs": [
        {
          "output_type": "stream",
          "name": "stdout",
          "text": [
            "[10 11 12 13 14 15 16 17 18 19 20 21 22 23 24 25 26 27 28 29 30 31 32 33\n",
            " 34 35 36 37 38 39 40 41 42 43 44 45 46 47 48 49]\n"
          ]
        }
      ]
    },
    {
      "cell_type": "code",
      "source": [
        "# 2. Create a 3X3 matrix with values ranging from 0 to 8\n",
        "matrix = np.arange(9).reshape(3, 3)\n",
        "print(matrix)"
      ],
      "metadata": {
        "colab": {
          "base_uri": "https://localhost:8080/"
        },
        "id": "v5r5Vv7Bj84f",
        "outputId": "967fbc4a-cb60-40c6-90ce-95fe29b99475"
      },
      "execution_count": 9,
      "outputs": [
        {
          "output_type": "stream",
          "name": "stdout",
          "text": [
            "[[0 1 2]\n",
            " [3 4 5]\n",
            " [6 7 8]]\n"
          ]
        }
      ]
    },
    {
      "cell_type": "code",
      "source": [
        "# 3. Create a 3X3 identity matrix\n",
        "identity_matrix = np.eye(3)\n",
        "print(identity_matrix)"
      ],
      "metadata": {
        "colab": {
          "base_uri": "https://localhost:8080/"
        },
        "id": "L3vtv63LkA3b",
        "outputId": "99814377-77c7-4a5a-8f21-baf6b746f90f"
      },
      "execution_count": 10,
      "outputs": [
        {
          "output_type": "stream",
          "name": "stdout",
          "text": [
            "[[1. 0. 0.]\n",
            " [0. 1. 0.]\n",
            " [0. 0. 1.]]\n"
          ]
        }
      ]
    },
    {
      "cell_type": "code",
      "source": [
        "# 4. Create a random array of size 30 and find the mean of the array\n",
        "random_array = np.random.random(30)\n",
        "mean_value = random_array.mean()\n",
        "print(mean_value)"
      ],
      "metadata": {
        "colab": {
          "base_uri": "https://localhost:8080/"
        },
        "id": "13NVTd46kuUT",
        "outputId": "4d5f26b0-eb5b-4197-e6f6-f32a5de1a86e"
      },
      "execution_count": 12,
      "outputs": [
        {
          "output_type": "stream",
          "name": "stdout",
          "text": [
            "0.5257472451907735\n"
          ]
        }
      ]
    },
    {
      "cell_type": "code",
      "source": [
        "# 5. Create a 10X10 array with random values and find the minimum and maximum values\n",
        "random_matrix = np.random.random((10, 10))\n",
        "min_value = random_matrix.min()\n",
        "max_value = random_matrix.max()\n",
        "print(f\"Min: {min_value}\\nMax: {max_value}\")"
      ],
      "metadata": {
        "colab": {
          "base_uri": "https://localhost:8080/"
        },
        "id": "_5jM7asfk-oe",
        "outputId": "c7f52df8-a9d4-40c1-d958-096c259a2057"
      },
      "execution_count": 15,
      "outputs": [
        {
          "output_type": "stream",
          "name": "stdout",
          "text": [
            "Min: 0.0015730333836333488\n",
            "Max: 0.9647270616535585\n"
          ]
        }
      ]
    },
    {
      "cell_type": "code",
      "source": [
        "# 6. Create a zero array of size 10 and replace 5th element with 1\n",
        "zero_array = np.zeros(10)\n",
        "zero_array[4] = 1\n",
        "print(zero_array)"
      ],
      "metadata": {
        "colab": {
          "base_uri": "https://localhost:8080/"
        },
        "id": "CkhwinM5lMaR",
        "outputId": "85bbe331-5922-4906-8ad0-cf6c68b75426"
      },
      "execution_count": 16,
      "outputs": [
        {
          "output_type": "stream",
          "name": "stdout",
          "text": [
            "[0. 0. 0. 0. 1. 0. 0. 0. 0. 0.]\n"
          ]
        }
      ]
    },
    {
      "cell_type": "code",
      "source": [
        "#7. Reverse an array arr = [1,2,0,0,4,0]\n",
        "arr = np.array([1, 2, 0, 0, 4, 0])\n",
        "reversed_arr = arr[::-1]\n",
        "print(reversed_arr)"
      ],
      "metadata": {
        "colab": {
          "base_uri": "https://localhost:8080/"
        },
        "id": "40oozK6flSX3",
        "outputId": "488e9754-838f-44cf-9075-ff24e745c15a"
      },
      "execution_count": 17,
      "outputs": [
        {
          "output_type": "stream",
          "name": "stdout",
          "text": [
            "[0 4 0 0 2 1]\n"
          ]
        }
      ]
    },
    {
      "cell_type": "code",
      "source": [
        "#8. Create a 2d array with 1 on border and 0 inside\n",
        "border_array = np.ones((5, 5))\n",
        "border_array[1:-1, 1:-1] = 0\n",
        "print(border_array)"
      ],
      "metadata": {
        "colab": {
          "base_uri": "https://localhost:8080/"
        },
        "id": "TTw-K2FqlabJ",
        "outputId": "21965d78-6237-4f88-f815-22e436faed47"
      },
      "execution_count": 18,
      "outputs": [
        {
          "output_type": "stream",
          "name": "stdout",
          "text": [
            "[[1. 1. 1. 1. 1.]\n",
            " [1. 0. 0. 0. 1.]\n",
            " [1. 0. 0. 0. 1.]\n",
            " [1. 0. 0. 0. 1.]\n",
            " [1. 1. 1. 1. 1.]]\n"
          ]
        }
      ]
    },
    {
      "cell_type": "code",
      "source": [
        "# 9. Create a 8X8 matrix and fill it with a checkerboard pattern\n",
        "checkerboard = np.zeros((8, 8))\n",
        "checkerboard[1::2, ::2] = 1\n",
        "checkerboard[::2, 1::2] = 1\n",
        "print(checkerboard)"
      ],
      "metadata": {
        "colab": {
          "base_uri": "https://localhost:8080/"
        },
        "id": "fg5eEOijlp_8",
        "outputId": "087875b9-e358-4661-d2e1-447237630c27"
      },
      "execution_count": 19,
      "outputs": [
        {
          "output_type": "stream",
          "name": "stdout",
          "text": [
            "[[0. 1. 0. 1. 0. 1. 0. 1.]\n",
            " [1. 0. 1. 0. 1. 0. 1. 0.]\n",
            " [0. 1. 0. 1. 0. 1. 0. 1.]\n",
            " [1. 0. 1. 0. 1. 0. 1. 0.]\n",
            " [0. 1. 0. 1. 0. 1. 0. 1.]\n",
            " [1. 0. 1. 0. 1. 0. 1. 0.]\n",
            " [0. 1. 0. 1. 0. 1. 0. 1.]\n",
            " [1. 0. 1. 0. 1. 0. 1. 0.]]\n"
          ]
        }
      ]
    },
    {
      "cell_type": "markdown",
      "source": [
        "**Problem- 3: Array Operations:**"
      ],
      "metadata": {
        "id": "gsUAi_NrmGmB"
      }
    },
    {
      "cell_type": "markdown",
      "source": [
        " For the following arrays:\n",
        "\n",
        " x = np.array([[1,2],[3,5]]) and y = np.array([[5,6],[7,8]]);\n",
        "\n",
        " v = np.array([9,10]) and w = np.array([11,12]);\n"
      ],
      "metadata": {
        "id": "lGURhs3Qmwnb"
      }
    },
    {
      "cell_type": "code",
      "source": [
        "x = np.array([[1, 2], [3, 5]])\n",
        "y = np.array([[5, 6], [7, 8]])\n",
        "v = np.array([9, 10])\n",
        "w = np.array([11, 12])"
      ],
      "metadata": {
        "id": "Nc1JKwjomETD"
      },
      "execution_count": 20,
      "outputs": []
    },
    {
      "cell_type": "code",
      "source": [
        "# 1. Add the two array.\n",
        "add = x + y\n",
        "print(add)"
      ],
      "metadata": {
        "colab": {
          "base_uri": "https://localhost:8080/"
        },
        "id": "pmtwoSaam9hw",
        "outputId": "a8fe0136-6f02-417c-adab-1f504bf1b458"
      },
      "execution_count": 49,
      "outputs": [
        {
          "output_type": "stream",
          "name": "stdout",
          "text": [
            "[[ 6  8]\n",
            " [10 13]]\n"
          ]
        }
      ]
    },
    {
      "cell_type": "code",
      "source": [
        "# 2. Subtract the two array.\n",
        "difference = x - y\n",
        "print(difference)"
      ],
      "metadata": {
        "colab": {
          "base_uri": "https://localhost:8080/"
        },
        "id": "cMLzOLI1nSc-",
        "outputId": "ee00a1bc-8c9d-4108-acc6-bc8ba3188d34"
      },
      "execution_count": 22,
      "outputs": [
        {
          "output_type": "stream",
          "name": "stdout",
          "text": [
            "[[-4 -4]\n",
            " [-4 -3]]\n"
          ]
        }
      ]
    },
    {
      "cell_type": "code",
      "source": [
        "# 3. Multiply the array with any integers of your choice.\n",
        "multiply = x * 2\n",
        "print(multiply)"
      ],
      "metadata": {
        "colab": {
          "base_uri": "https://localhost:8080/"
        },
        "id": "-vxqKNzlpQS2",
        "outputId": "d739a1b5-53ba-4d2e-adab-6f3c0d9cf8a3"
      },
      "execution_count": 23,
      "outputs": [
        {
          "output_type": "stream",
          "name": "stdout",
          "text": [
            "[[ 2  4]\n",
            " [ 6 10]]\n"
          ]
        }
      ]
    },
    {
      "cell_type": "code",
      "source": [
        "# 4. Find the square of each element of the array.\n",
        "sq = np.square(x)\n",
        "print(sq)"
      ],
      "metadata": {
        "colab": {
          "base_uri": "https://localhost:8080/"
        },
        "id": "ZZbrR50fpjcj",
        "outputId": "b71c47cf-1649-4aaf-d9ea-b004f5bd4a75"
      },
      "execution_count": 25,
      "outputs": [
        {
          "output_type": "stream",
          "name": "stdout",
          "text": [
            "[[ 1  4]\n",
            " [ 9 25]]\n"
          ]
        }
      ]
    },
    {
      "cell_type": "code",
      "source": [
        "# 5. Find the dot product between: v(and)w ; x(and)v ; x(and)y.\n",
        "dot_v_w = np.dot(v, w)\n",
        "dot_x_v = np.dot(x, v)\n",
        "dot_x_y = np.dot(x, y)\n",
        "print(f\"Dot product v and w: {dot_v_w}\")\n",
        "print(f\"Dot product x and v: {dot_x_v}\")\n",
        "print(f\"Dot product x and y: {dot_x_y}\")"
      ],
      "metadata": {
        "colab": {
          "base_uri": "https://localhost:8080/"
        },
        "id": "JbQXJep0qEar",
        "outputId": "b829abc9-1792-4724-9077-254ee1f95d3f"
      },
      "execution_count": 26,
      "outputs": [
        {
          "output_type": "stream",
          "name": "stdout",
          "text": [
            "Dot product v and w: 219\n",
            "Dot product x and v: [29 77]\n",
            "Dot product x and y: [[19 22]\n",
            " [50 58]]\n"
          ]
        }
      ]
    },
    {
      "cell_type": "code",
      "source": [
        "# 6. Concatenate x(and)y along row and Concatenate v(and)w along column.\n",
        "concatenate_x_y = np.vstack((x, y))\n",
        "concatenate_v_w = np.column_stack((v, w))\n",
        "print(concatenate_x_y)\n",
        "print(concatenate_v_w)"
      ],
      "metadata": {
        "colab": {
          "base_uri": "https://localhost:8080/"
        },
        "id": "0Rl68w3RqawG",
        "outputId": "3ba19e6f-549c-4305-b6eb-26f70051aa76"
      },
      "execution_count": 27,
      "outputs": [
        {
          "output_type": "stream",
          "name": "stdout",
          "text": [
            "[[1 2]\n",
            " [3 5]\n",
            " [5 6]\n",
            " [7 8]]\n",
            "[[ 9 11]\n",
            " [10 12]]\n"
          ]
        }
      ]
    },
    {
      "cell_type": "code",
      "source": [
        "# 7. Concatenate x(and)v; if you get an error, observe and explain why did you get the error?\n",
        "concatenate_x_v = np.concatenate((x, v))\n",
        "print(concatenate_x_v)\n"
      ],
      "metadata": {
        "colab": {
          "base_uri": "https://localhost:8080/",
          "height": 200
        },
        "id": "xglehjYGq1YP",
        "outputId": "ea27c7c8-e5fd-49de-8511-8a2e133637a5"
      },
      "execution_count": 29,
      "outputs": [
        {
          "output_type": "error",
          "ename": "ValueError",
          "evalue": "all the input arrays must have same number of dimensions, but the array at index 0 has 2 dimension(s) and the array at index 1 has 1 dimension(s)",
          "traceback": [
            "\u001b[0;31m---------------------------------------------------------------------------\u001b[0m",
            "\u001b[0;31mValueError\u001b[0m                                Traceback (most recent call last)",
            "\u001b[0;32m<ipython-input-29-c3c7df3805f4>\u001b[0m in \u001b[0;36m<cell line: 0>\u001b[0;34m()\u001b[0m\n\u001b[1;32m      1\u001b[0m \u001b[0;31m# 7. Concatenate x(and)v; if you get an error, observe and explain why did you get the error?\u001b[0m\u001b[0;34m\u001b[0m\u001b[0;34m\u001b[0m\u001b[0m\n\u001b[0;32m----> 2\u001b[0;31m \u001b[0mconcatenate_x_v\u001b[0m \u001b[0;34m=\u001b[0m \u001b[0mnp\u001b[0m\u001b[0;34m.\u001b[0m\u001b[0mconcatenate\u001b[0m\u001b[0;34m(\u001b[0m\u001b[0;34m(\u001b[0m\u001b[0mx\u001b[0m\u001b[0;34m,\u001b[0m \u001b[0mv\u001b[0m\u001b[0;34m)\u001b[0m\u001b[0;34m)\u001b[0m\u001b[0;34m\u001b[0m\u001b[0;34m\u001b[0m\u001b[0m\n\u001b[0m\u001b[1;32m      3\u001b[0m \u001b[0mprint\u001b[0m\u001b[0;34m(\u001b[0m\u001b[0mconcatenate_x_v\u001b[0m\u001b[0;34m)\u001b[0m\u001b[0;34m\u001b[0m\u001b[0;34m\u001b[0m\u001b[0m\n\u001b[1;32m      4\u001b[0m \u001b[0;31m# Explanation: The shapes of x (2x2) and v (2,) are not compatible for concatenation.\u001b[0m\u001b[0;34m\u001b[0m\u001b[0;34m\u001b[0m\u001b[0m\n",
            "\u001b[0;31mValueError\u001b[0m: all the input arrays must have same number of dimensions, but the array at index 0 has 2 dimension(s) and the array at index 1 has 1 dimension(s)"
          ]
        }
      ]
    },
    {
      "cell_type": "markdown",
      "source": [
        "The shapes of x and v are not compatible for concatenation. The arrays should have the same number of dimensions for concatenation."
      ],
      "metadata": {
        "id": "H86SxQM4tDT0"
      }
    },
    {
      "cell_type": "markdown",
      "source": [
        "**Problem- 4: Matrix Operations:**"
      ],
      "metadata": {
        "id": "TaEhufPItWeN"
      }
    },
    {
      "cell_type": "markdown",
      "source": [
        " For the following arrays:\n",
        "\n",
        " A = np.array([[3,4],[7,8]]) and B = np.array([[5,3],[2,1]]);"
      ],
      "metadata": {
        "id": "fx6s5p1duUs3"
      }
    },
    {
      "cell_type": "code",
      "source": [
        "A = np.array([[3, 4], [7, 8]])\n",
        "B = np.array([[5, 3], [2, 1]])"
      ],
      "metadata": {
        "id": "IC7I2I86uqwH"
      },
      "execution_count": 30,
      "outputs": []
    },
    {
      "cell_type": "code",
      "source": [
        "# 1. Prove A.A−1 = I.\n",
        "A_inv = np.linalg.inv(A)\n",
        "identity = np.dot(A, A_inv)\n",
        "print(identity)"
      ],
      "metadata": {
        "colab": {
          "base_uri": "https://localhost:8080/"
        },
        "id": "MhaQVavvtOMU",
        "outputId": "c7760ee1-5fe1-4ef1-d27f-6593a9a245ec"
      },
      "execution_count": 31,
      "outputs": [
        {
          "output_type": "stream",
          "name": "stdout",
          "text": [
            "[[1.00000000e+00 0.00000000e+00]\n",
            " [1.77635684e-15 1.00000000e+00]]\n"
          ]
        }
      ]
    },
    {
      "cell_type": "code",
      "source": [
        "#2. Prove AB= BA.\n",
        "AB = np.dot(A, B)\n",
        "BA = np.dot(B, A)\n",
        "print(f\"AB:\\n{AB}\")\n",
        "print(f\"BA:\\n{BA}\")\n"
      ],
      "metadata": {
        "colab": {
          "base_uri": "https://localhost:8080/"
        },
        "id": "WMKXzD6_vZVj",
        "outputId": "52ec0b18-bdc6-4996-eea8-2164732ceead"
      },
      "execution_count": 33,
      "outputs": [
        {
          "output_type": "stream",
          "name": "stdout",
          "text": [
            "AB:\n",
            "[[23 13]\n",
            " [51 29]]\n",
            "BA:\n",
            "[[36 44]\n",
            " [13 16]]\n"
          ]
        }
      ]
    },
    {
      "cell_type": "code",
      "source": [
        "# 3. Prove (AB)^T = B^T.A^T.\n",
        "AB_transpose = AB.T\n",
        "B_A = np.dot(B.T, A.T)\n",
        "print(f\"(AB)^T:\\n{AB_transpose}\")\n",
        "print(f\"B^T A^T:\\n{B_A}\")"
      ],
      "metadata": {
        "colab": {
          "base_uri": "https://localhost:8080/"
        },
        "id": "FF3O1UL1vlxy",
        "outputId": "d233fae3-02ca-4a4a-f2ac-0f9bf87ef7a2"
      },
      "execution_count": 36,
      "outputs": [
        {
          "output_type": "stream",
          "name": "stdout",
          "text": [
            "(AB)^T:\n",
            "[[23 51]\n",
            " [13 29]]\n",
            "B^T A^T:\n",
            "[[23 51]\n",
            " [13 29]]\n"
          ]
        }
      ]
    },
    {
      "cell_type": "markdown",
      "source": [
        " Solve the following system of Linear equation using Inverse Methods.\n",
        "\n",
        " 2x −3y+z =−1\n",
        "\n",
        " x −y+2z =−3\n",
        "\n",
        " 3x +y−z =9"
      ],
      "metadata": {
        "id": "uQTkND0ywBL6"
      }
    },
    {
      "cell_type": "code",
      "source": [
        "A = np.array([[2, -3, 1], [1, -1, 2], [3, 1, -1]])\n",
        "B = np.array([-1, -3, 9])\n",
        "import numpy as np\n",
        "\n",
        "A_inv = np.linalg.inv(A)\n",
        "\n",
        "X = np.dot(A_inv, B)\n",
        "\n",
        "print(\"Solution for x, y, and z:\")\n",
        "print(X)\n"
      ],
      "metadata": {
        "colab": {
          "base_uri": "https://localhost:8080/"
        },
        "id": "gH6MxorfwFl1",
        "outputId": "f478204a-0eab-47a6-afa9-b83ac08c17ce"
      },
      "execution_count": 38,
      "outputs": [
        {
          "output_type": "stream",
          "name": "stdout",
          "text": [
            "Solution for x, y, and z:\n",
            "[ 2.  1. -2.]\n"
          ]
        }
      ]
    },
    {
      "cell_type": "code",
      "source": [
        "# Now: solve the above equation using np.linalg.inv function.\n",
        "X_solve = np.linalg.solve(A, B)\n",
        "print(X_solve)"
      ],
      "metadata": {
        "colab": {
          "base_uri": "https://localhost:8080/"
        },
        "id": "K9VFQg_qw0eI",
        "outputId": "3d9b5164-9dbe-47c6-c31e-448a67676be6"
      },
      "execution_count": 40,
      "outputs": [
        {
          "output_type": "stream",
          "name": "stdout",
          "text": [
            "[ 2.  1. -2.]\n"
          ]
        }
      ]
    },
    {
      "cell_type": "markdown",
      "source": [
        "# 10.2 Experiment: How Fast is Numpy?"
      ],
      "metadata": {
        "id": "tk8oeBFhw-T1"
      }
    },
    {
      "cell_type": "markdown",
      "source": [
        " 1. Element-wise Addition:\n",
        "\n",
        " • Using Python Lists, perform element-wise addition of two lists of size 1,000,000. Measure and Print the time taken for this operation.\n",
        "\n",
        " • Using Numpy Arrays, Repeat the calculation and measure and print the time taken for this operation"
      ],
      "metadata": {
        "id": "8Z023jgtxGDk"
      }
    },
    {
      "cell_type": "code",
      "source": [
        "import time\n",
        "\n",
        "size = 1000000\n",
        "\n",
        "list1 = list(range(size))\n",
        "list2 = list(range(size))\n",
        "\n",
        "start_time = time.time()\n",
        "result_list = [list1[i] + list2[i] for i in range(size)]\n",
        "end_time = time.time()\n",
        "print(f\"Time taken using Python lists: {end_time - start_time:.6f} seconds\")\n",
        "\n",
        "array1 = np.arange(size)\n",
        "array2 = np.arange(size)\n",
        "\n",
        "start_time = time.time()\n",
        "result_array = array1 + array2\n",
        "end_time = time.time()\n",
        "print(f\"Time taken using NumPy arrays: {end_time - start_time:.6f} seconds\")\n"
      ],
      "metadata": {
        "colab": {
          "base_uri": "https://localhost:8080/"
        },
        "id": "YFfK_SQ5xAvD",
        "outputId": "f1a3560d-8e6e-4442-df3b-072a89543a1a"
      },
      "execution_count": 45,
      "outputs": [
        {
          "output_type": "stream",
          "name": "stdout",
          "text": [
            "Time taken using Python lists: 0.075876 seconds\n",
            "Time taken using NumPy arrays: 0.011222 seconds\n"
          ]
        }
      ]
    },
    {
      "cell_type": "markdown",
      "source": [
        " Element-wise Multiplication\n",
        "\n",
        " • Using Python Lists, perform element-wise multiplication of two lists of size 1,000,000. Measure and Print the time taken for this operation.\n",
        "\n",
        " • Using Numpy Arrays, Repeat the calculation and measure and print the time taken for this operation"
      ],
      "metadata": {
        "id": "3q6U8Nvb3Lqh"
      }
    },
    {
      "cell_type": "code",
      "source": [
        "size = 1000000\n",
        "\n",
        "list1 = list(range(size))\n",
        "list2 = list(range(size))\n",
        "\n",
        "start_time = time.time()\n",
        "result_list = [list1[i] * list2[i] for i in range(size)]\n",
        "end_time = time.time()\n",
        "print(f\"Time taken using Python lists: {end_time - start_time:.6f} seconds\")\n",
        "\n",
        "array1 = np.arange(size)\n",
        "array2 = np.arange(size)\n",
        "\n",
        "start_time = time.time()\n",
        "result_array = array1 * array2\n",
        "end_time = time.time()\n",
        "print(f\"Time taken using NumPy arrays: {end_time - start_time:.6f} seconds\")\n"
      ],
      "metadata": {
        "colab": {
          "base_uri": "https://localhost:8080/"
        },
        "id": "LmyxPrIl4879",
        "outputId": "49282b88-eb2b-4029-bc53-147e4370e271"
      },
      "execution_count": 61,
      "outputs": [
        {
          "output_type": "stream",
          "name": "stdout",
          "text": [
            "Time taken using Python lists: 0.122034 seconds\n",
            "Time taken using NumPy arrays: 0.006699 seconds\n"
          ]
        }
      ]
    },
    {
      "cell_type": "markdown",
      "source": [
        " Dot Product\n",
        "\n",
        " • Using Python Lists, compute the dot product of two lists of size 1,000,000. Measure and Print the time taken for this operation.\n",
        "\n",
        " • Using Numpy Arrays, Repeat the calculation and measure and print the time taken for this operation."
      ],
      "metadata": {
        "id": "L7M_6g0S5SDC"
      }
    },
    {
      "cell_type": "code",
      "source": [
        "size = 1000000\n",
        "list1 = [i for i in range(size)]\n",
        "list2 = [i for i in range(size)]\n",
        "\n",
        "start_time = time.time()\n",
        "dot_product_list = sum([list1[i] * list2[i] for i in range(size)])\n",
        "end_time = time.time()\n",
        "time_list = end_time - start_time\n",
        "\n",
        "np_array1 = np.array(list1)\n",
        "np_array2 = np.array(list2)\n",
        "\n",
        "start_time = time.time()\n",
        "dot_product_np = np.dot(np_array1, np_array2)\n",
        "end_time = time.time()\n",
        "time_np = end_time - start_time\n",
        "\n",
        "# Output results\n",
        "print(f\"Time taken with Python Lists: {time_list} seconds\")\n",
        "print(f\"Time taken with NumPy Arrays: {time_np} seconds\")\n",
        "print(f\"Dot product result with Python Lists: {dot_product_list}\")\n",
        "print(f\"Dot product result with NumPy Arrays: {dot_product_np}\")\n"
      ],
      "metadata": {
        "colab": {
          "base_uri": "https://localhost:8080/"
        },
        "id": "r2F74otg5RVw",
        "outputId": "fbb211d4-9303-4924-ac32-c65cdb482efb"
      },
      "execution_count": 62,
      "outputs": [
        {
          "output_type": "stream",
          "name": "stdout",
          "text": [
            "Time taken with Python Lists: 0.12789416313171387 seconds\n",
            "Time taken with NumPy Arrays: 0.0018072128295898438 seconds\n",
            "Dot product result with Python Lists: 333332833333500000\n",
            "Dot product result with NumPy Arrays: 333332833333500000\n"
          ]
        }
      ]
    },
    {
      "cell_type": "markdown",
      "source": [
        " 4. Matrix Multiplication\n",
        "\n",
        " • Using Python lists, perform matrix multiplication of two matrices of size 1000x1000. Measure and print the time taken for this operation.\n",
        "\n",
        " • Using NumPy arrays, perform matrix multiplication of two matrices of size 1000x1000.Measure and print the time taken for this operation."
      ],
      "metadata": {
        "id": "xo4ictEg7Swu"
      }
    },
    {
      "cell_type": "code",
      "source": [
        "size = 1000\n",
        "matrix1 = [[i + j for j in range(size)] for i in range(size)]\n",
        "matrix2 = [[i - j for j in range(size)] for i in range(size)]\n",
        "\n",
        "start_time = time.time()\n",
        "result_list = [[sum(matrix1[i][k] * matrix2[k][j] for k in range(size)) for j in range(size)] for i in range(size)]\n",
        "end_time = time.time()\n",
        "time_list = end_time - start_time\n",
        "\n",
        "np_matrix1 = np.random.rand(size, size)\n",
        "np_matrix2 = np.random.rand(size, size)\n",
        "\n",
        "start_time = time.time()\n",
        "result_np = np.dot(np_matrix1, np_matrix2)\n",
        "end_time = time.time()\n",
        "time_np = end_time - start_time\n",
        "\n",
        "print(f\"Time taken for matrix multiplication using Python lists: {time_list} seconds\")\n",
        "print(f\"Time taken for matrix multiplication using NumPy arrays: {time_np} seconds\")\n"
      ],
      "metadata": {
        "colab": {
          "base_uri": "https://localhost:8080/"
        },
        "id": "pADyVnNO7Yir",
        "outputId": "061bb6ac-7554-44fa-e317-cf3ddf4a6d36"
      },
      "execution_count": 65,
      "outputs": [
        {
          "output_type": "stream",
          "name": "stdout",
          "text": [
            "Time taken for matrix multiplication using Python lists: 173.02091312408447 seconds\n",
            "Time taken for matrix multiplication using NumPy arrays: 0.0663137435913086 seconds\n"
          ]
        }
      ]
    }
  ]
}